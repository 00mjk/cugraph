{
 "cells": [
  {
   "cell_type": "markdown",
   "metadata": {},
   "source": [
    "Multi-GPU PageRank Demo\n",
    "=======================\n",
    "\n",
    "This example runs PageRank on HiBench data using RAPIDS. Before running this notebook, you need to start a DASK scheduler and DASK workers in command line.\n",
    "\n",
    "* dask-scheduler --scheduler-file path_to_scheduler_file # path_to_scheduler_file: path to write the scheduler access information in the json format (e.g. ~\\cluster.json)\n",
    "\n",
    "* mpirun -np number_of_workers --machinefile path_to_machine_address_file dask-mpi --no-nanny --nthreads number_of_threads --no-scheduler --scheduler-file path_to_scheduler_info_file # numbrer_of_workers, path_to_machine_address_file, numbrer_of_threads, and path_to_scheduler_info_file need to be set to proper values, path_to_scheduler_info_file should match the path provided when launching a dask-scheduler, --machinefile path_to_machine_address_file can be skipped if you are running this on a single node."
   ]
  },
  {
   "cell_type": "markdown",
   "metadata": {},
   "source": [
    "1) Import Files\n",
    "=======================\n"
   ]
  },
  {
   "cell_type": "code",
   "execution_count": 1,
   "metadata": {},
   "outputs": [],
   "source": [
    "import os\n",
    "import time\n",
    "\n",
    "from dask.distributed import Client\n",
    "\n",
    "import dask_cudf\n",
    "import dask_cugraph as dcg"
   ]
  },
  {
   "cell_type": "markdown",
   "metadata": {},
   "source": [
    "2) Set the Number of GPU Devices and File Paths\n",
    "======================="
   ]
  },
  {
   "cell_type": "code",
   "execution_count": 10,
   "metadata": {},
   "outputs": [],
   "source": [
    "number_of_devices = 2\n",
    "scheduler_file_path = r\"/home/seunghwak/cluster.json\"\n",
    "input_data_path = r\"/home/seunghwak/TMP/Input-small/edges\""
   ]
  },
  {
   "cell_type": "markdown",
   "metadata": {},
   "source": [
    "2) Define Utility Functions\n",
    "=======================\n",
    "set_visible maps a dask-mpi process to a single GPU device."
   ]
  },
  {
   "cell_type": "code",
   "execution_count": 3,
   "metadata": {},
   "outputs": [],
   "source": [
    "def set_visible(i, n):\n",
    "    all_devices = list(range(n))\n",
    "    visible_devices = \",\".join(map(str, all_devices[i:] + all_devices[:i]))\n",
    "    os.environ[\"CUDA_VISIBLE_DEVICES\"] = visible_devices"
   ]
  },
  {
   "cell_type": "markdown",
   "metadata": {},
   "source": [
    "3) Create a Client\n",
    "=======================\n",
    "Connect to the DASK scheduler, need to replace /home/USERID/cluster.json to the proper directory path."
   ]
  },
  {
   "cell_type": "code",
   "execution_count": 7,
   "metadata": {},
   "outputs": [],
   "source": [
    "start_time = time.time()  # start timing from here\n",
    "\n",
    "client = Client(scheduler_file=scheduler_file_path,\n",
    "                direct_to_workers=True)"
   ]
  },
  {
   "cell_type": "markdown",
   "metadata": {},
   "source": [
    "4) Map One Worker to One GPU\n",
    "======================="
   ]
  },
  {
   "cell_type": "code",
   "execution_count": 11,
   "metadata": {},
   "outputs": [
    {
     "data": {
      "text/plain": [
       "[<Future: status: pending, key: set_visible-4f3af2f890d6a36d7e8217c80e27002c>,\n",
       " <Future: status: pending, key: set_visible-734ca7f9b333fe2c93c28d89ff836b50>]"
      ]
     },
     "execution_count": 11,
     "metadata": {},
     "output_type": "execute_result"
    }
   ],
   "source": [
    "devices = list(range(number_of_devices))\n",
    "device_workers = list(client.has_what().keys())\n",
    "assert len(devices) == len(device_workers)\n",
    "\n",
    "[client.submit(set_visible, device, len(devices), workers=[worker])\n",
    "    for device, worker in zip(devices, device_workers)]"
   ]
  },
  {
   "cell_type": "markdown",
   "metadata": {},
   "source": [
    "5) Read Input Data\n",
    "=======================\n",
    "Need to replace /datasets/pagerank_demo/Input-bigdata/edges to the proper directory path"
   ]
  },
  {
   "cell_type": "code",
   "execution_count": 12,
   "metadata": {},
   "outputs": [],
   "source": [
    "dgdf = dask_cudf.read_csv(input_data_path + r\"/part-*\",\n",
    "                          delimiter='\\t', names=['src', 'dst'],\n",
    "                          dtype=['int32', 'int32'])\n",
    "dgdf = client.persist(dgdf)"
   ]
  },
  {
   "cell_type": "markdown",
   "metadata": {},
   "source": [
    "6) Sort Input Data\n",
    "======================="
   ]
  },
  {
   "cell_type": "code",
   "execution_count": 13,
   "metadata": {},
   "outputs": [],
   "source": [
    "dgdf = dgdf.sort_values_binned(by='dst')\n",
    "dgdf = client.persist(dgdf)"
   ]
  },
  {
   "cell_type": "markdown",
   "metadata": {},
   "source": [
    "7) Run PageRank\n",
    "======================="
   ]
  },
  {
   "cell_type": "code",
   "execution_count": null,
   "metadata": {},
   "outputs": [],
   "source": [
    "pagerank = dcg.mg_pagerank(dgdf)"
   ]
  },
  {
   "cell_type": "markdown",
   "metadata": {},
   "source": [
    "8) Close the Client and Report Execution Time\n",
    "======================="
   ]
  },
  {
   "cell_type": "code",
   "execution_count": null,
   "metadata": {},
   "outputs": [],
   "source": [
    "client.close()\n",
    "\n",
    "end_time = time.time()\n",
    "print((end_time - start_time), \"seconds\")"
   ]
  }
 ],
 "metadata": {
  "kernelspec": {
   "display_name": "Python 3",
   "language": "python",
   "name": "python3"
  },
  "language_info": {
   "codemirror_mode": {
    "name": "ipython",
    "version": 3
   },
   "file_extension": ".py",
   "mimetype": "text/x-python",
   "name": "python",
   "nbconvert_exporter": "python",
   "pygments_lexer": "ipython3",
   "version": "3.7.1"
  }
 },
 "nbformat": 4,
 "nbformat_minor": 2
}
