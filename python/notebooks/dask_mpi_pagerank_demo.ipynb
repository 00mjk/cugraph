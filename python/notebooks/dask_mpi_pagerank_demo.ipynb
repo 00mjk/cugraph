{
 "cells": [
  {
   "cell_type": "markdown",
   "metadata": {},
   "source": [
    "PageRank Demo\n",
    "=======================\n",
    "\n",
    "This example runs PageRank on HiBench data using RAPIDS. Before running this notebook, you need to start a DASK scheduler and DASK workers in command line.\n",
    "\n",
    "* dask-scheduler --scheduler-file path_to_scheduler_info_file_path # path_to_file_path: path to write the scheduler access information in the json format (e.g. ~\\cluster.json to write to cluster.json under your home directory)\n",
    "\n",
    "* mpirun -np number_of_workers --machinefile path_to_node_address_file dask-mpi --no-nanny --nthreads number_of_threads --no-scheduler --scheduler-file path_to_scheduler_info_file_path # numbrer_of_workers, path_to_node_address_file, and numbrer_of_threads need to be updated to proper values"
   ]
  },
  {
   "cell_type": "markdown",
   "metadata": {},
   "source": [
    "1) Import Files\n",
    "=======================\n"
   ]
  },
  {
   "cell_type": "code",
   "execution_count": 19,
   "metadata": {},
   "outputs": [],
   "source": [
    "import os\n",
    "import time\n",
    "import numpy as np\n",
    "from mpi4py import MPI\n",
    "from dask.distributed import Client, wait\n",
    "import dask\n",
    "import dask_cudf\n",
    "import dask_cugraph as dcg"
   ]
  },
  {
   "cell_type": "markdown",
   "metadata": {},
   "source": [
    "2) Define Utility Functions\n",
    "======================="
   ]
  },
  {
   "cell_type": "code",
   "execution_count": 20,
   "metadata": {},
   "outputs": [],
   "source": [
    " def parse_host_port(address):\n",
    "    if '://' in address:\n",
    "        address = address.rsplit('://', 1)[1]\n",
    "    host, port = address.split(':')\n",
    "    port = int(port)\n",
    "    return host, port"
   ]
  },
  {
   "cell_type": "code",
   "execution_count": 21,
   "metadata": {},
   "outputs": [],
   "source": [
    "def set_visible(l, num_devs_per_node):\n",
    "    try:\n",
    "        comm = MPI.COMM_WORLD\n",
    "        rank = comm.Get_rank()\n",
    "        assert l == rank\n",
    "        vd = l % num_devs_per_node\n",
    "        os.environ[\"CUDA_VISIBLE_DEVICES\"] = vd\n",
    "        return vd\n",
    "    \n",
    "    except Exception as e:\n",
    "        print(str(e))"
   ]
  },
  {
   "cell_type": "markdown",
   "metadata": {},
   "source": [
    "3) Create a Client\n",
    "=======================\n",
    "Connect to the DASK scheduler, need to replace /home/seunghwak/cluster.json to the proper directory path."
   ]
  },
  {
   "cell_type": "code",
   "execution_count": 22,
   "metadata": {},
   "outputs": [
    {
     "data": {
      "text/html": [
       "<table style=\"border: 2px solid white;\">\n",
       "<tr>\n",
       "<td style=\"vertical-align: top; border: 0px solid white\">\n",
       "<h3>Client</h3>\n",
       "<ul>\n",
       "  <li><b>Scheduler: </b>tcp://10.28.133.204:8786\n",
       "  <li><b>Dashboard: </b><a href='http://10.28.133.204:8787/status' target='_blank'>http://10.28.133.204:8787/status</a>\n",
       "</ul>\n",
       "</td>\n",
       "<td style=\"vertical-align: top; border: 0px solid white\">\n",
       "<h3>Cluster</h3>\n",
       "<ul>\n",
       "  <li><b>Workers: </b>2</li>\n",
       "  <li><b>Cores: </b>4</li>\n",
       "  <li><b>Memory: </b>16.42 GB</li>\n",
       "</ul>\n",
       "</td>\n",
       "</tr>\n",
       "</table>"
      ],
      "text/plain": [
       "<Client: scheduler='tcp://10.28.133.204:8786' processes=2 cores=4>"
      ]
     },
     "execution_count": 22,
     "metadata": {},
     "output_type": "execute_result"
    }
   ],
   "source": [
    "start_time = time.time() # start timing from here\n",
    "\n",
    "client = Client(scheduler_file = \"/home/seunghwak/cluster.json\", direct_to_workers = True) \n",
    "client"
   ]
  },
  {
   "cell_type": "code",
   "execution_count": 23,
   "metadata": {},
   "outputs": [
    {
     "data": {
      "text/plain": [
       "[('10.28.133.204', 38115), ('10.28.133.204', 46717)]"
      ]
     },
     "execution_count": 23,
     "metadata": {},
     "output_type": "execute_result"
    }
   ],
   "source": [
    "workers = [parse_host_port(worker) for worker in list(client.has_what().keys())]\n",
    "workers"
   ]
  },
  {
   "cell_type": "markdown",
   "metadata": {},
   "source": [
    "4) Map One Worker to One GPU\n",
    "======================="
   ]
  },
  {
   "cell_type": "code",
   "execution_count": 24,
   "metadata": {},
   "outputs": [
    {
     "data": {
      "text/plain": [
       "[(<Future: status: pending, key: set_visible-2c8563b1fe87ea66e99c437f10933361>,\n",
       "  ('10.28.133.204', 38115)),\n",
       " (<Future: status: pending, key: set_visible-554bc8900e51f118459f2ae225fc406a>,\n",
       "  ('10.28.133.204', 46717))]"
      ]
     },
     "execution_count": 24,
     "metadata": {},
     "output_type": "execute_result"
    }
   ],
   "source": [
    "num_devs_per_node = 2;\n",
    "assert (len(workers) % num_devs_per_node) == 0\n",
    "pmpi_map = [(client.submit(set_visible, ident, num_devs_per_node, workers = [worker]), worker)\n",
    "            for worker, ident in zip(workers, range(len(workers)))]\n",
    "pmpi_map"
   ]
  },
  {
   "cell_type": "markdown",
   "metadata": {},
   "source": [
    "5) Read Input Data\n",
    "=======================\n",
    "Need to replace /home/seunghwak/TMP/Input-small/edges to the proper directory path"
   ]
  },
  {
   "cell_type": "code",
   "execution_count": 25,
   "metadata": {},
   "outputs": [
    {
     "data": {
      "text/html": [
       "<div><strong>Dask DataFrame Structure:</strong></div>\n",
       "<div>\n",
       "<style scoped>\n",
       "    .dataframe tbody tr th:only-of-type {\n",
       "        vertical-align: middle;\n",
       "    }\n",
       "\n",
       "    .dataframe tbody tr th {\n",
       "        vertical-align: top;\n",
       "    }\n",
       "\n",
       "    .dataframe thead th {\n",
       "        text-align: right;\n",
       "    }\n",
       "</style>\n",
       "<table border=\"1\" class=\"dataframe\">\n",
       "  <thead>\n",
       "    <tr style=\"text-align: right;\">\n",
       "      <th></th>\n",
       "      <th>src</th>\n",
       "      <th>dst</th>\n",
       "    </tr>\n",
       "    <tr>\n",
       "      <th>npartitions=32</th>\n",
       "      <th></th>\n",
       "      <th></th>\n",
       "    </tr>\n",
       "  </thead>\n",
       "  <tbody>\n",
       "    <tr>\n",
       "      <th></th>\n",
       "      <td>int32</td>\n",
       "      <td>int32</td>\n",
       "    </tr>\n",
       "    <tr>\n",
       "      <th></th>\n",
       "      <td>...</td>\n",
       "      <td>...</td>\n",
       "    </tr>\n",
       "    <tr>\n",
       "      <th>...</th>\n",
       "      <td>...</td>\n",
       "      <td>...</td>\n",
       "    </tr>\n",
       "    <tr>\n",
       "      <th></th>\n",
       "      <td>...</td>\n",
       "      <td>...</td>\n",
       "    </tr>\n",
       "    <tr>\n",
       "      <th></th>\n",
       "      <td>...</td>\n",
       "      <td>...</td>\n",
       "    </tr>\n",
       "  </tbody>\n",
       "</table>\n",
       "</div>\n",
       "<div>Dask Name: read-csv, 32 tasks</div>"
      ],
      "text/plain": [
       "<dask_cudf.DataFrame | 32 tasks | 32 npartitions>"
      ]
     },
     "execution_count": 25,
     "metadata": {},
     "output_type": "execute_result"
    }
   ],
   "source": [
    "cdf = dask_cudf.read_csv(\"/home/seunghwak/TMP/Input-small/edges/part-*\", delimiter='\\t',  names=['src', 'dst'], \n",
    "                         dtype=['int32', 'int32'])\n",
    "cdf = client.persist(cdf)\n",
    "cdf"
   ]
  },
  {
   "cell_type": "code",
   "execution_count": 26,
   "metadata": {},
   "outputs": [
    {
     "data": {
      "text/html": [
       "<div><strong>Dask DataFrame Structure:</strong></div>\n",
       "<div>\n",
       "<style scoped>\n",
       "    .dataframe tbody tr th:only-of-type {\n",
       "        vertical-align: middle;\n",
       "    }\n",
       "\n",
       "    .dataframe tbody tr th {\n",
       "        vertical-align: top;\n",
       "    }\n",
       "\n",
       "    .dataframe thead th {\n",
       "        text-align: right;\n",
       "    }\n",
       "</style>\n",
       "<table border=\"1\" class=\"dataframe\">\n",
       "  <thead>\n",
       "    <tr style=\"text-align: right;\">\n",
       "      <th></th>\n",
       "      <th>index</th>\n",
       "      <th>src</th>\n",
       "      <th>dst</th>\n",
       "    </tr>\n",
       "    <tr>\n",
       "      <th>npartitions=32</th>\n",
       "      <th></th>\n",
       "      <th></th>\n",
       "      <th></th>\n",
       "    </tr>\n",
       "  </thead>\n",
       "  <tbody>\n",
       "    <tr>\n",
       "      <th></th>\n",
       "      <td>int64</td>\n",
       "      <td>int32</td>\n",
       "      <td>int32</td>\n",
       "    </tr>\n",
       "    <tr>\n",
       "      <th></th>\n",
       "      <td>...</td>\n",
       "      <td>...</td>\n",
       "      <td>...</td>\n",
       "    </tr>\n",
       "    <tr>\n",
       "      <th>...</th>\n",
       "      <td>...</td>\n",
       "      <td>...</td>\n",
       "      <td>...</td>\n",
       "    </tr>\n",
       "    <tr>\n",
       "      <th></th>\n",
       "      <td>...</td>\n",
       "      <td>...</td>\n",
       "      <td>...</td>\n",
       "    </tr>\n",
       "    <tr>\n",
       "      <th></th>\n",
       "      <td>...</td>\n",
       "      <td>...</td>\n",
       "      <td>...</td>\n",
       "    </tr>\n",
       "  </tbody>\n",
       "</table>\n",
       "</div>\n",
       "<div>Dask Name: from-delayed, 32 tasks</div>"
      ],
      "text/plain": [
       "<dask_cudf.DataFrame | 32 tasks | 32 npartitions>"
      ]
     },
     "execution_count": 26,
     "metadata": {},
     "output_type": "execute_result"
    }
   ],
   "source": [
    "cdf2 = cdf.sort_values_binned(by='dst') # data needs to be sorted based on destination index\n",
    "cdf2 = client.persist(cdf2)\n",
    "cdf2"
   ]
  },
  {
   "cell_type": "markdown",
   "metadata": {},
   "source": [
    "6) Run PageRank\n",
    "======================="
   ]
  },
  {
   "cell_type": "code",
   "execution_count": 27,
   "metadata": {},
   "outputs": [
    {
     "name": "stdout",
     "output_type": "stream",
     "text": [
      "----------------> FUNTION NAME: MG_PAGERANK in dask_cugraph\n",
      "----------------> FUNTION NAME: GET_MG_INFO\n",
      "[<Future: status: error, key: ('from-delayed-9d4cbc0f89371fa4c24539043f397b71', 0)>, <Future: status: error, key: ('from-delayed-9d4cbc0f89371fa4c24539043f397b71', 1)>, <Future: status: error, key: ('from-delayed-9d4cbc0f89371fa4c24539043f397b71', 2)>, <Future: status: error, key: ('from-delayed-9d4cbc0f89371fa4c24539043f397b71', 3)>, <Future: status: error, key: ('from-delayed-9d4cbc0f89371fa4c24539043f397b71', 4)>, <Future: status: error, key: ('from-delayed-9d4cbc0f89371fa4c24539043f397b71', 5)>, <Future: status: error, key: ('from-delayed-9d4cbc0f89371fa4c24539043f397b71', 6)>, <Future: status: error, key: ('from-delayed-9d4cbc0f89371fa4c24539043f397b71', 7)>, <Future: status: error, key: ('from-delayed-9d4cbc0f89371fa4c24539043f397b71', 8)>, <Future: status: error, key: ('from-delayed-9d4cbc0f89371fa4c24539043f397b71', 9)>, <Future: status: error, key: ('from-delayed-9d4cbc0f89371fa4c24539043f397b71', 10)>, <Future: status: error, key: ('from-delayed-9d4cbc0f89371fa4c24539043f397b71', 11)>, <Future: status: error, key: ('from-delayed-9d4cbc0f89371fa4c24539043f397b71', 12)>, <Future: status: error, key: ('from-delayed-9d4cbc0f89371fa4c24539043f397b71', 13)>, <Future: status: error, key: ('from-delayed-9d4cbc0f89371fa4c24539043f397b71', 14)>, <Future: status: error, key: ('from-delayed-9d4cbc0f89371fa4c24539043f397b71', 15)>, <Future: status: error, key: ('from-delayed-9d4cbc0f89371fa4c24539043f397b71', 16)>, <Future: status: error, key: ('from-delayed-9d4cbc0f89371fa4c24539043f397b71', 17)>, <Future: status: error, key: ('from-delayed-9d4cbc0f89371fa4c24539043f397b71', 18)>, <Future: status: error, key: ('from-delayed-9d4cbc0f89371fa4c24539043f397b71', 19)>, <Future: status: error, key: ('from-delayed-9d4cbc0f89371fa4c24539043f397b71', 20)>, <Future: status: error, key: ('from-delayed-9d4cbc0f89371fa4c24539043f397b71', 21)>, <Future: status: error, key: ('from-delayed-9d4cbc0f89371fa4c24539043f397b71', 22)>, <Future: status: error, key: ('from-delayed-9d4cbc0f89371fa4c24539043f397b71', 23)>, <Future: status: error, key: ('from-delayed-9d4cbc0f89371fa4c24539043f397b71', 24)>, <Future: status: error, key: ('from-delayed-9d4cbc0f89371fa4c24539043f397b71', 25)>, <Future: status: error, key: ('from-delayed-9d4cbc0f89371fa4c24539043f397b71', 26)>, <Future: status: error, key: ('from-delayed-9d4cbc0f89371fa4c24539043f397b71', 27)>, <Future: status: error, key: ('from-delayed-9d4cbc0f89371fa4c24539043f397b71', 28)>, <Future: status: error, key: ('from-delayed-9d4cbc0f89371fa4c24539043f397b71', 29)>, <Future: status: error, key: ('from-delayed-9d4cbc0f89371fa4c24539043f397b71', 30)>, <Future: status: error, key: ('from-delayed-9d4cbc0f89371fa4c24539043f397b71', 31)>]\n"
     ]
    },
    {
     "ename": "StopIteration",
     "evalue": "",
     "output_type": "error",
     "traceback": [
      "\u001b[0;31m---------------------------------------------------------------------------\u001b[0m",
      "\u001b[0;31mStopIteration\u001b[0m                             Traceback (most recent call last)",
      "\u001b[0;32m<ipython-input-27-154d6681c5ad>\u001b[0m in \u001b[0;36m<module>\u001b[0;34m\u001b[0m\n\u001b[0;32m----> 1\u001b[0;31m \u001b[0mdcg\u001b[0m\u001b[0;34m.\u001b[0m\u001b[0mmg_pagerank\u001b[0m\u001b[0;34m(\u001b[0m\u001b[0mcdf2\u001b[0m\u001b[0;34m)\u001b[0m\u001b[0;34m\u001b[0m\u001b[0;34m\u001b[0m\u001b[0m\n\u001b[0m",
      "\u001b[0;32m~/RAPIDS/cugraph_gtc_demo/dask_cugraph.py\u001b[0m in \u001b[0;36mmg_pagerank\u001b[0;34m(X_df)\u001b[0m\n\u001b[1;32m     38\u001b[0m \u001b[0;34m\u001b[0m\u001b[0m\n\u001b[1;32m     39\u001b[0m     \u001b[0mclient\u001b[0m \u001b[0;34m=\u001b[0m \u001b[0mdefault_client\u001b[0m\u001b[0;34m(\u001b[0m\u001b[0;34m)\u001b[0m\u001b[0;34m\u001b[0m\u001b[0;34m\u001b[0m\u001b[0m\n\u001b[0;32m---> 40\u001b[0;31m     \u001b[0mgpu_futures\u001b[0m \u001b[0;34m=\u001b[0m \u001b[0m_get_mg_info\u001b[0m\u001b[0;34m(\u001b[0m\u001b[0mX_df\u001b[0m\u001b[0;34m)\u001b[0m\u001b[0;34m\u001b[0m\u001b[0;34m\u001b[0m\u001b[0m\n\u001b[0m\u001b[1;32m     41\u001b[0m     \u001b[0;31m#print(\"GPU_FUTURES\")\u001b[0m\u001b[0;34m\u001b[0m\u001b[0;34m\u001b[0m\u001b[0;34m\u001b[0m\u001b[0m\n\u001b[1;32m     42\u001b[0m     \u001b[0;31m#print(gpu_futures)\u001b[0m\u001b[0;34m\u001b[0m\u001b[0;34m\u001b[0m\u001b[0;34m\u001b[0m\u001b[0m\n",
      "\u001b[0;32m~/RAPIDS/cugraph_gtc_demo/dask_cugraph.py\u001b[0m in \u001b[0;36m_get_mg_info\u001b[0;34m(ddf)\u001b[0m\n\u001b[1;32m     79\u001b[0m         \u001b[0;31m#print(\"workers\")\u001b[0m\u001b[0;34m\u001b[0m\u001b[0;34m\u001b[0m\u001b[0;34m\u001b[0m\u001b[0m\n\u001b[1;32m     80\u001b[0m         \u001b[0;31m#print(workers)\u001b[0m\u001b[0;34m\u001b[0m\u001b[0;34m\u001b[0m\u001b[0;34m\u001b[0m\u001b[0m\n\u001b[0;32m---> 81\u001b[0;31m         \u001b[0mworker\u001b[0m \u001b[0;34m=\u001b[0m \u001b[0mparse_host_port\u001b[0m\u001b[0;34m(\u001b[0m\u001b[0mfirst\u001b[0m\u001b[0;34m(\u001b[0m\u001b[0mworkers\u001b[0m\u001b[0;34m)\u001b[0m\u001b[0;34m)\u001b[0m\u001b[0;34m\u001b[0m\u001b[0;34m\u001b[0m\u001b[0m\n\u001b[0m\u001b[1;32m     82\u001b[0m         \u001b[0mworker_map\u001b[0m\u001b[0;34m.\u001b[0m\u001b[0mappend\u001b[0m\u001b[0;34m(\u001b[0m\u001b[0;34m(\u001b[0m\u001b[0mworker\u001b[0m\u001b[0;34m,\u001b[0m \u001b[0mkey_to_part_dict\u001b[0m\u001b[0;34m[\u001b[0m\u001b[0mkey\u001b[0m\u001b[0;34m]\u001b[0m\u001b[0;34m)\u001b[0m\u001b[0;34m)\u001b[0m\u001b[0;34m\u001b[0m\u001b[0;34m\u001b[0m\u001b[0m\n\u001b[1;32m     83\u001b[0m     \u001b[0mmax_node_src_col\u001b[0m \u001b[0;34m=\u001b[0m \u001b[0mddf\u001b[0m\u001b[0;34m[\u001b[0m\u001b[0mddf\u001b[0m\u001b[0;34m.\u001b[0m\u001b[0mcolumns\u001b[0m\u001b[0;34m[\u001b[0m\u001b[0;36m0\u001b[0m\u001b[0;34m]\u001b[0m\u001b[0;34m]\u001b[0m\u001b[0;34m.\u001b[0m\u001b[0mmax\u001b[0m\u001b[0;34m(\u001b[0m\u001b[0;34m)\u001b[0m\u001b[0;34m.\u001b[0m\u001b[0mcompute\u001b[0m\u001b[0;34m(\u001b[0m\u001b[0;34m)\u001b[0m\u001b[0;34m\u001b[0m\u001b[0;34m\u001b[0m\u001b[0m\n",
      "\u001b[0;32m~/Program/anaconda3/envs/rapidsai_cuda10.0/lib/python3.7/site-packages/toolz/itertoolz.py\u001b[0m in \u001b[0;36mfirst\u001b[0;34m(seq)\u001b[0m\n\u001b[1;32m    366\u001b[0m     \u001b[0;34m'A'\u001b[0m\u001b[0;34m\u001b[0m\u001b[0;34m\u001b[0m\u001b[0m\n\u001b[1;32m    367\u001b[0m     \"\"\"\n\u001b[0;32m--> 368\u001b[0;31m     \u001b[0;32mreturn\u001b[0m \u001b[0mnext\u001b[0m\u001b[0;34m(\u001b[0m\u001b[0miter\u001b[0m\u001b[0;34m(\u001b[0m\u001b[0mseq\u001b[0m\u001b[0;34m)\u001b[0m\u001b[0;34m)\u001b[0m\u001b[0;34m\u001b[0m\u001b[0;34m\u001b[0m\u001b[0m\n\u001b[0m\u001b[1;32m    369\u001b[0m \u001b[0;34m\u001b[0m\u001b[0m\n\u001b[1;32m    370\u001b[0m \u001b[0;34m\u001b[0m\u001b[0m\n",
      "\u001b[0;31mStopIteration\u001b[0m: "
     ]
    }
   ],
   "source": [
    "dcg.mg_pagerank(cdf2)"
   ]
  },
  {
   "cell_type": "markdown",
   "metadata": {},
   "source": [
    "7) Close the Client and Report Execution Time\n",
    "======================="
   ]
  },
  {
   "cell_type": "code",
   "execution_count": 36,
   "metadata": {},
   "outputs": [
    {
     "name": "stdout",
     "output_type": "stream",
     "text": [
      "9.966898441314697 seconds\n"
     ]
    }
   ],
   "source": [
    "client.close()\n",
    "\n",
    "end_time = time.time()\n",
    "print ((end_time - start_time), \"seconds\")"
   ]
  }
 ],
 "metadata": {
  "kernelspec": {
   "display_name": "Python 3",
   "language": "python",
   "name": "python3"
  },
  "language_info": {
   "codemirror_mode": {
    "name": "ipython",
    "version": 3
   },
   "file_extension": ".py",
   "mimetype": "text/x-python",
   "name": "python",
   "nbconvert_exporter": "python",
   "pygments_lexer": "ipython3",
   "version": "3.7.1"
  }
 },
 "nbformat": 4,
 "nbformat_minor": 2
}
